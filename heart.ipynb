{
 "cells": [
  {
   "cell_type": "code",
   "execution_count": null,
   "metadata": {},
   "outputs": [],
   "source": [
    "import turtle\n",
    "import random\n",
    "import math\n",
    "\n",
    "# 初始化\n",
    "turtle.setup(1280, 720)\n",
    "t = turtle.Pen()\n",
    "t.ht()\n",
    "\n",
    "# 颜色\n",
    "colors = []\n",
    "t_list = [\"0\", \"1\", \"2\", \"3\", \"4\", \"5\", \"6\", \"7\", \"8\", \"9\", \"a\", \"b\", \"c\", \"d\", \"e\", \"f\"]\n",
    "\n",
    "for i in t_list:\n",
    "    t_str = \"#ff00\"\n",
    "    for j in t_list:\n",
    "        colors.append(t_str+i+j)\n",
    "\n",
    "\n",
    "class Love():\n",
    "    def __init__(self):\n",
    "        # 定义变量\n",
    "        self.r = random.randint(4, 10)\n",
    "        self.x = random.randint(-900, 700)\n",
    "        self.y = random.randint(-400, 400)\n",
    "        self.i = random.randint(0, 10)\n",
    "        self.color = random.choice(colors)\n",
    "        self.speed = random.randint(1, 8)\n",
    "\n",
    "    def move(self):\n",
    "        # 通过y坐标来控制爱心\n",
    "        if self.y <= 500:\n",
    "            self.y += 2.5*self.speed\n",
    "            self.x = self.x + 1.5*math.sin(self.i)*math.sqrt(self.i)*self.speed\n",
    "            self.i = self.i + 0.1\n",
    "        else:\n",
    "            self.y = -700\n",
    "            self.r = random.randint(5, 20)\n",
    "            self.x = random.randint(-900, 700)\n",
    "            self.i = 0\n",
    "            self.color = random.choice(colors)\n",
    "            self.speed = random.randint(1, 8)\n",
    "\n",
    "    def draw(self):\n",
    "        # 绘制爱心\n",
    "        t.pensize(self.r/2)\n",
    "        t.penup()\n",
    "        t.color(self.color, self.color)\n",
    "        t.goto(self.x, self.y)\n",
    "        t.pendown()\n",
    "        # 设置角度\n",
    "        t.setheading(60)\n",
    "        t.circle(self.r, 255)\n",
    "        t.fd(2.4*self.r)\n",
    "        t.left(90)\n",
    "        t.fd(2.4*self.r)\n",
    "        t.circle(self.r, 255)\n",
    "\n",
    "\n",
    "love = []\n",
    "for i in range(100):\n",
    "    love.append(Love())\n",
    "turtle.bgcolor(\"#000000\")\n",
    "\n",
    "\n",
    "while 1:\n",
    "    turtle.tracer(0)\n",
    "    t.clear()\n",
    "    for i in range(80):\n",
    "        love[i].move()\n",
    "        love[i].draw()\n",
    "    turtle.tracer(1)"
   ]
  },
  {
   "cell_type": "code",
   "execution_count": null,
   "metadata": {},
   "outputs": [],
   "source": []
  },
  {
   "cell_type": "code",
   "execution_count": null,
   "metadata": {},
   "outputs": [],
   "source": []
  },
  {
   "cell_type": "code",
   "execution_count": null,
   "metadata": {},
   "outputs": [],
   "source": []
  },
  {
   "cell_type": "code",
   "execution_count": null,
   "metadata": {},
   "outputs": [],
   "source": []
  },
  {
   "cell_type": "code",
   "execution_count": null,
   "metadata": {},
   "outputs": [],
   "source": []
  },
  {
   "cell_type": "code",
   "execution_count": null,
   "metadata": {},
   "outputs": [],
   "source": []
  },
  {
   "cell_type": "code",
   "execution_count": null,
   "metadata": {},
   "outputs": [],
   "source": []
  }
 ],
 "metadata": {
  "kernelspec": {
   "display_name": "Python 3",
   "language": "python",
   "name": "python3"
  },
  "language_info": {
   "codemirror_mode": {
    "name": "ipython",
    "version": 3
   },
   "file_extension": ".py",
   "mimetype": "text/x-python",
   "name": "python",
   "nbconvert_exporter": "python",
   "pygments_lexer": "ipython3",
   "version": "3.8.5"
  },
  "toc": {
   "base_numbering": 1,
   "nav_menu": {},
   "number_sections": true,
   "sideBar": true,
   "skip_h1_title": false,
   "title_cell": "Table of Contents",
   "title_sidebar": "Contents",
   "toc_cell": false,
   "toc_position": {},
   "toc_section_display": true,
   "toc_window_display": false
  }
 },
 "nbformat": 4,
 "nbformat_minor": 4
}
